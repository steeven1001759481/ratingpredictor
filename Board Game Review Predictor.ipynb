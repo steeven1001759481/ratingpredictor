{
 "cells": [
  {
   "cell_type": "markdown",
   "metadata": {},
   "source": [
    "# <center>Board Game Review Rating Predictor"
   ]
  },
  {
   "cell_type": "markdown",
   "metadata": {},
   "source": [
    "Name: Steeven Pereira<br>\n",
    "ID: 1001759481\n",
    "\n",
    "<h1>Summary:</h1><br>\n",
    "Text analysis is an important part of AI technology that uses Natural Language Processing to transform unstructured text into Normalized, Structured data suitable for Machine Learning algorithms. There are a lot of different techniques which can convert raw textual data into meaningfull information by performing certain mathematical computations that convert the text data into numerical data. The aim of this project was to build a prediction model that can effectively predict the rating of a board game review. The rating predictor model was trained on the 'comment' column of the 'bgg-13m-reviews' file. The main challenge of this project was handling the large scale data and creating a prediction model that can be deployed on cloud to provide the predicted output in good time. The textual data was cleaned by removing the 'urls', 'emojis', and other special characters that were redundant for the classification model. Stopwords were also removed from the data. Since the data to be feed to the machine learning model was of string datatype, it had to be converted to a format suitable for the prediction model. Tfid vectorization was used to transform the data. Range Accuracy was also computed with a buffer of 1. The data was trained on four classification algorithms namely: <ul><li>Ridge Classifier</li><li>Multinomial Naive Bayes Classifier</li><li>Linear SVC Classifier</li><li>Ensemble</li></ul><br>\n",
    "The accuracy obtained in each model: <ul><li>Ridge Classifier: 31.94%</li><li>Multinomial Naive Bayes Classifier: 30.7%</li><li>Linear SVC Classifier: 30.8%</li><li>Ensemble: 31.72%</li></ul><br>\n",
    "Mean Square Error in each model: <ul><li>Ridge Classifier: 1.65</li><li>Multinomial Naive Bayes Classifier: 1.72</li><li>Linear SVC Classifier: 1.73</li><li>Ensemble: 1.61</li></ul><br>\n",
    "Time to develop each model: <ul><li>Ridge Classifier: 9min 4s</li><li>Multinomial Naive Bayes Classifier: 1.42s</li><li>Linear SVC Classifier: 2h 19min 55s</li><li>Ensemble: 8min 50s</li></ul><br>\n",
    "Since some of the models take a lot of time to develop the model it would be difficult to run the model and obtain output on the server. So all the models were saved using joblib and only required to be loaded while predicting a review on the web UI. The web UI was created using Flask and hosted using Heroku.\n",
    "<br>\n",
    "<h1>Dataset Description</h1>\n",
    "\n",
    "The dataset was obtained from BoardGameGeek Reviews on Kaggle. The dataset was created from the data collected from boardgamegeek.com and divided into 3 files. For this project only the 'bgg-13m-reviews' file was used that consists of the 'comment' column and the rating column required for the machine learning model.The dataset consisted of approximately 13.6M data values. However some of the data values in the 'comment' column were empty. Such data values were removed from the dataset and the data was scaled down to approximately 2.6M data values. The dataset was cleaned and transform to create vectors to feed as input to the classifier models. \n",
    "<br>\n",
    "<h1>Aim of the project</h1>\n",
    "\n",
    "The main aim of the project is to predict the rating of a game review based on the review provided as input. The purpose of this project is handling large scale data and understanding the working of classification algorithms. Also creating a web User Interface and hosting it on cloud. \n",
    "<br>\n",
    "<h2>Ridge Classifier</h2>\n",
    "\n",
    "Ridge classifier is a classification algorithm that uses ridge regression to classify multi-nomial values. For multi-class classification, n_class classifiers are trained in a one-versus-all approach.\n",
    "<br>\n",
    "<h2>Multinomial Naive-Bayes Classifier</h2>\n",
    "\n",
    "Multinomial Naive-Bayes classifier is a naive bayes classifier for multi-nomial values. It is suitable for multi-class classification with discrete features. The multi-nomial distribution works for fractional count such as tfidf as well.\n",
    "<br>\n",
    "<h2>Linear SVC Classifier</h2>\n",
    "\n",
    "Linear SVC classifier is a Support Vector Machine classifier for multi-nomial values. The objective of a Linear Support Vector Classifier is to fit to the data you provide, returning a \"best fit\" hyperplane that divides, or categorizes, your data. After that getting the hyperplane, you can then feed some features to your classifier to see what the \"predicted\" class is. \n",
    "<br>\n",
    "<h2>Ensemble</h2>\n",
    "Ensembel model's are a technique of machine learning in which several machine learning models are combined to create a single classifier model to decrease loss and improve the accuracy of the model. In this project a Voting Classifier is built by combining Ridge Classifier and Multinomial Naive Bayes Classifier.<br>\n",
    "<h2>TF-IDF Vectorizer</h2>\n",
    "\n",
    "TF-IDF stands for term frequency inverse document frequency. It transforms text into feature vectors that are provided as input to the classifier model. It is a statistical measure that computes how relevant a particular word is in the document. Tf-idf is calculated by multiplying two values: frequency of a word appearing in a document, and the inverse document frequency of the word across a set of documents. <br>\n",
    "<br>\n",
    "<h1><b>Difference from reference</b></h1><br>\n",
    "\n",
    "https://github.com/vivekk09/Board-Game-Review-Prediction-ML-Project/blob/master/Board%20Game%20Review%20Prediction.ipynb\n",
    "<br>\n",
    "In the above reference, the model was created using different attributes that contained different datatypes. For my project I have created the model based on the 'comment' column of the dataset. So in order to pass the input to the model the data had to be transformed. Tf-idf vectorization was used to convert the string data into vecctors maaking it a suitable input for the classifier model. In the references the dataset consisted of 80K reviews and the models used were Linear Regression and Random Forest. Since the dataset for this project was more than 30 times the dataset in the reference using Linear Regression or Random Forest was time-consuming and also the output in this project has multi-nomial values. Thus I have used Ridge Classifier, Multinomial Naive Bayes, Linear SVC and Voting Classifier for creating the model. The challenge in this project was creating the web UI and hosting on the server. Based on the accuracy, range accuracy and mean square error of all the classifier models the web server was designed using the Ridge Classifier. Since it was time consuming to fit the classifier on the web server i used joblib to save the model.\n",
    "<br>\n",
    "<h1>Video Link:</h1><br>\n",
    "\n",
    "[Click Here](https://www.youtube.com/watch?v=NtPtIP394v4)\n",
    "<br>\n",
    "<h1>Github:</h1><br>\n",
    "\n",
    "[Click Here](https://github.com/steeven1001759481/ratingpredictor)\n",
    "<br>\n",
    "<h1>Web Demo:</h1><br>\n",
    "\n",
    "[Click Here](https://ratingprediction.herokuapp.com/)"
   ]
  },
  {
   "cell_type": "code",
   "execution_count": 1,
   "metadata": {},
   "outputs": [],
   "source": [
    "#Loading the libraries required for loading dataset and visualization \n",
    "import pandas as pd\n",
    "import matplotlib.pyplot as plt\n",
    "import os\n",
    "import seaborn as sns\n",
    "import numpy as np"
   ]
  },
  {
   "cell_type": "code",
   "execution_count": 60,
   "metadata": {},
   "outputs": [],
   "source": [
    "#loading the dataset using pandas library\n",
    "df = pd.read_csv('bgg-13m-reviews.csv')"
   ]
  },
  {
   "cell_type": "code",
   "execution_count": 61,
   "metadata": {},
   "outputs": [
    {
     "data": {
      "text/plain": [
       "13170073"
      ]
     },
     "execution_count": 61,
     "metadata": {},
     "output_type": "execute_result"
    }
   ],
   "source": [
    "#Shuffle the Dataset\n",
    "df = df.sample(frac=1)\n",
    "len(df)"
   ]
  },
  {
   "cell_type": "markdown",
   "metadata": {},
   "source": [
    "Drop the data values where the 'comment' column is empty. "
   ]
  },
  {
   "cell_type": "code",
   "execution_count": 62,
   "metadata": {},
   "outputs": [
    {
     "data": {
      "text/plain": [
       "2637756"
      ]
     },
     "execution_count": 62,
     "metadata": {},
     "output_type": "execute_result"
    }
   ],
   "source": [
    "df.dropna(subset=['comment'], inplace=True)\n",
    "len(df)"
   ]
  },
  {
   "cell_type": "markdown",
   "metadata": {},
   "source": [
    "<b>Histogram of the rating column that is used as class attribute</b><br>\n",
    "We can see that almost 700K reviews have 7 rating that is the highest frequency. The cummulative frequency of ratings 1, 2, and 3 is less than 120K. \n"
   ]
  },
  {
   "cell_type": "code",
   "execution_count": 76,
   "metadata": {},
   "outputs": [
    {
     "data": {
      "image/png": "[encoded data removed]",
      "text/plain": [
       "<Figure size 432x288 with 1 Axes>"
      ]
     },
     "metadata": {
      "needs_background": "light"
     },
     "output_type": "display_data"
    }
   ],
   "source": [
    "plt.hist(df['rating'])\n",
    "plt.show()"
   ]
  },
  {
   "cell_type": "markdown",
   "metadata": {},
   "source": [
    "Cleaning the dataset<br>\n",
    "<ul>\n",
    "    <li>removing emoji's</li>\n",
    "    <li>removing url</li>\n",
    "    <li>removing special characters</li>\n",
    "    "
   ]
  },
  {
   "cell_type": "code",
   "execution_count": 7,
   "metadata": {},
   "outputs": [],
   "source": [
    "import emoji\n",
    "import re\n",
    "def clean_data(text):\n",
    "    url = re.compile(r'https?://\\S+|www\\.\\S+')\n",
    "    emoji_pattern = re.compile(\"[\"\n",
    "    u\"\\U0001F600-\\U0001F64F\"  \n",
    "    u\"\\U0001F300-\\U0001F5FF\"  \n",
    "    u\"\\U0001F680-\\U0001F6FF\"  \n",
    "    u\"\\U0001F1E0-\\U0001F1FF\"  \n",
    "    u\"\\U00002702-\\U000027B0\"\n",
    "    u\"\\U000024C2-\\U0001F251\"\n",
    "    \"]+\", flags=re.UNICODE)\n",
    "    text = re.sub(r'\\n',' ', text) \n",
    "    text = re.sub('\\s+', ' ', text).strip() \n",
    "    return emoji_pattern.sub(r'', text)\n",
    "    return url.sub(r'',text)"
   ]
  },
  {
   "cell_type": "code",
   "execution_count": 77,
   "metadata": {},
   "outputs": [],
   "source": [
    "df['comment'] = df['comment'].apply(clean_data)"
   ]
  },
  {
   "cell_type": "markdown",
   "metadata": {},
   "source": [
    "Tf-idf Vectorization and removing stopwords."
   ]
  },
  {
   "cell_type": "code",
   "execution_count": 100,
   "metadata": {},
   "outputs": [],
   "source": [
    "from sklearn import feature_extraction\n",
    "from sklearn.feature_extraction.text import TfidfVectorizer, CountVectorizer\n",
    "count_vectorizer = feature_extraction.text.TfidfVectorizer(stop_words='english')\n"
   ]
  },
  {
   "cell_type": "markdown",
   "metadata": {},
   "source": [
    "Top 15 words before removing stopwords\n"
   ]
  },
  {
   "cell_type": "code",
   "execution_count": 157,
   "metadata": {},
   "outputs": [
    {
     "data": {
      "image/png": "[encoded data removed]",
      "text/plain": [
       "<Figure size 432x288 with 1 Axes>"
      ]
     },
     "metadata": {
      "needs_background": "light"
     },
     "output_type": "display_data"
    },
    {
     "name": "stdout",
     "output_type": "stream",
     "text": [
      "Wall time: 2min 30s\n"
     ]
    }
   ],
   "source": [
    "%%time\n",
    "def get_top_n_words(corpus, n=None):\n",
    "    vec = CountVectorizer().fit(corpus)\n",
    "    bag_of_words = vec.transform(corpus)\n",
    "    sum_words = bag_of_words.sum(axis=0) \n",
    "    words_freq = [(word, sum_words[0, idx]) for word, idx in vec.vocabulary_.items()]\n",
    "    words_freq =sorted(words_freq, key = lambda x: x[1], reverse=True)\n",
    "    return words_freq[:n]\n",
    "common_words = get_top_n_words(df['comment'], 15)\n",
    "\n",
    "langs=[]\n",
    "students=[]\n",
    "for word, freq in common_words:\n",
    "    langs.append(word)\n",
    "    students.append(freq)\n",
    "import matplotlib.pyplot as plt\n",
    "fig = plt.figure()\n",
    "ax = fig.add_axes([0,0,1,1])\n",
    "ax.bar(langs,students)\n",
    "plt.show()"
   ]
  },
  {
   "cell_type": "markdown",
   "metadata": {},
   "source": [
    "Top 15 words after removing stopwords"
   ]
  },
  {
   "cell_type": "code",
   "execution_count": 158,
   "metadata": {
    "scrolled": true
   },
   "outputs": [
    {
     "data": {
      "image/png": "[encoded data removed]",
      "text/plain": [
       "<Figure size 432x288 with 1 Axes>"
      ]
     },
     "metadata": {
      "needs_background": "light"
     },
     "output_type": "display_data"
    }
   ],
   "source": [
    "def get_top_n_words(corpus, n=None):\n",
    "    vec = CountVectorizer(stop_words = 'english').fit(corpus)\n",
    "    bag_of_words = vec.transform(corpus)\n",
    "    sum_words = bag_of_words.sum(axis=0) \n",
    "    words_freq = [(word, sum_words[0, idx]) for word, idx in vec.vocabulary_.items()]\n",
    "    words_freq =sorted(words_freq, key = lambda x: x[1], reverse=True)\n",
    "    return words_freq[:n]\n",
    "common_words = get_top_n_words(df['comment'], 15)\n",
    "langs=[]\n",
    "students=[]\n",
    "for word, freq in common_words:\n",
    "    langs.append(word)\n",
    "    students.append(freq)\n",
    "fig = plt.figure()\n",
    "ax = fig.add_axes([0,0,1,1])\n",
    "ax.bar(langs,students)\n",
    "plt.show()"
   ]
  },
  {
   "cell_type": "code",
   "execution_count": 11,
   "metadata": {},
   "outputs": [],
   "source": [
    "#Store the review in X and the rating i.e. the class label in y\n",
    "X = df['comment'].values\n",
    "y = df['rating'].values"
   ]
  },
  {
   "cell_type": "markdown",
   "metadata": {},
   "source": [
    "The rating column contains 8202 unique values. It contains float values which will be rounded."
   ]
  },
  {
   "cell_type": "code",
   "execution_count": 3,
   "metadata": {},
   "outputs": [
    {
     "data": {
      "text/plain": [
       "8202"
      ]
     },
     "execution_count": 3,
     "metadata": {},
     "output_type": "execute_result"
    }
   ],
   "source": [
    "len(df['rating'].unique())"
   ]
  },
  {
   "cell_type": "code",
   "execution_count": 58,
   "metadata": {},
   "outputs": [
    {
     "data": {
      "text/plain": [
       "3408"
      ]
     },
     "execution_count": 58,
     "metadata": {},
     "output_type": "execute_result"
    }
   ],
   "source": [
    "y = np.round(y)\n",
    "len(df['rating'].unique())"
   ]
  },
  {
   "cell_type": "markdown",
   "metadata": {},
   "source": [
    "Split the dataset into 80-20 train test split"
   ]
  },
  {
   "cell_type": "code",
   "execution_count": 13,
   "metadata": {},
   "outputs": [],
   "source": [
    "split_size = 520000\n",
    "X_train = X[:-split_size]\n",
    "y_train = y[:-split_size]\n",
    "\n",
    "X_test = X[-split_size:]\n",
    "y_test = y[-split_size:]"
   ]
  },
  {
   "cell_type": "markdown",
   "metadata": {},
   "source": [
    "Create vectors for the train data"
   ]
  },
  {
   "cell_type": "code",
   "execution_count": 78,
   "metadata": {},
   "outputs": [],
   "source": [
    "train_vectors = count_vectorizer.fit_transform(X_train)"
   ]
  },
  {
   "cell_type": "markdown",
   "metadata": {},
   "source": [
    "Create vectors for the test data"
   ]
  },
  {
   "cell_type": "code",
   "execution_count": 79,
   "metadata": {},
   "outputs": [],
   "source": [
    "test_vectors = count_vectorizer.transform(X_test)"
   ]
  },
  {
   "cell_type": "markdown",
   "metadata": {},
   "source": [
    "# Classifier Model"
   ]
  },
  {
   "cell_type": "code",
   "execution_count": 29,
   "metadata": {},
   "outputs": [],
   "source": [
    "#Load the required libraries\n",
    "import sklearn\n",
    "from sklearn.linear_model import RidgeClassifier\n",
    "from sklearn.naive_bayes import MultinomialNB\n",
    "from sklearn.svm import LinearSVC\n"
   ]
  },
  {
   "cell_type": "code",
   "execution_count": 109,
   "metadata": {},
   "outputs": [],
   "source": [
    "from sklearn import metrics\n",
    "from sklearn.metrics import accuracy_score\n",
    "from sklearn.metrics import mean_squared_error\n",
    "from sklearn.metrics import roc_curve"
   ]
  },
  {
   "cell_type": "code",
   "execution_count": 82,
   "metadata": {},
   "outputs": [],
   "source": [
    "def range_accuracy_metric(actual, predicted):\n",
    "    correct = 0\n",
    "    for i in range(len(actual)):\n",
    "        if actual[i] == predicted[i] or actual[i] == (predicted[i]+1) or actual[i] == (predicted[i]-1) :\n",
    "            correct += 1\n",
    "    return correct / float(len(actual)) * 100.0"
   ]
  },
  {
   "cell_type": "markdown",
   "metadata": {},
   "source": [
    "<h2>Ridge Classifier</h2>\n",
    "<br>Fit the Ridge classifier model on the train data    "
   ]
  },
  {
   "cell_type": "code",
   "execution_count": 171,
   "metadata": {},
   "outputs": [
    {
     "name": "stdout",
     "output_type": "stream",
     "text": [
      "Wall time: 9min 4s\n"
     ]
    },
    {
     "data": {
      "text/plain": [
       "RidgeClassifier(alpha=1.0, class_weight=None, copy_X=True, fit_intercept=True,\n",
       "                max_iter=None, normalize=False, random_state=None,\n",
       "                solver='auto', tol=0.001)"
      ]
     },
     "execution_count": 171,
     "metadata": {},
     "output_type": "execute_result"
    }
   ],
   "source": [
    "%%time\n",
    "clf = RidgeClassifier()\n",
    "clf.fit(train_vectors, y_train)"
   ]
  },
  {
   "cell_type": "markdown",
   "metadata": {},
   "source": [
    "Predicting the values of the test set"
   ]
  },
  {
   "cell_type": "code",
   "execution_count": 19,
   "metadata": {},
   "outputs": [
    {
     "name": "stdout",
     "output_type": "stream",
     "text": [
      "Wall time: 237 ms\n"
     ]
    }
   ],
   "source": [
    "%%time\n",
    "y_pred = np.round(clf.predict(test_vectors))"
   ]
  },
  {
   "cell_type": "markdown",
   "metadata": {},
   "source": [
    "Accuracy on Ridge Classifier"
   ]
  },
  {
   "cell_type": "code",
   "execution_count": 88,
   "metadata": {},
   "outputs": [
    {
     "name": "stdout",
     "output_type": "stream",
     "text": [
      "Accuracy on Ridge Classifier : 0.31940576923076924 %\n"
     ]
    }
   ],
   "source": [
    "acc = accuracy_score(np.round(y_pred), np.round(y_test))\n",
    "print('Accuracy on Ridge Classifier : {} %'.format(acc))"
   ]
  },
  {
   "cell_type": "code",
   "execution_count": 89,
   "metadata": {},
   "outputs": [
    {
     "name": "stdout",
     "output_type": "stream",
     "text": [
      "Range Accuracy on Ridge Classifier : 69.61076923076924 %\n"
     ]
    }
   ],
   "source": [
    "range_ridge_score=range_accuracy_metric(y_test, np.round(y_pred))\n",
    "print('Range Accuracy on Ridge Classifier : {} %'.format(range_ridge_score))"
   ]
  },
  {
   "cell_type": "markdown",
   "metadata": {},
   "source": [
    "Mean Square error on Ridge Classifier"
   ]
  },
  {
   "cell_type": "code",
   "execution_count": 49,
   "metadata": {},
   "outputs": [
    {
     "data": {
      "text/plain": [
       "1.6457748934772338"
      ]
     },
     "execution_count": 49,
     "metadata": {},
     "output_type": "execute_result"
    }
   ],
   "source": [
    "mse1 = mean_squared_error(y_test, y_pred, squared=False)\n",
    "mse1"
   ]
  },
  {
   "cell_type": "code",
   "execution_count": 106,
   "metadata": {},
   "outputs": [
    {
     "name": "stdout",
     "output_type": "stream",
     "text": [
      "              precision    recall  f1-score   support\n",
      "\n",
      "         0.0       0.00      0.00      0.00         3\n",
      "         1.0       0.35      0.09      0.15      3894\n",
      "         2.0       0.27      0.05      0.09      8068\n",
      "         3.0       0.23      0.03      0.05     14004\n",
      "         4.0       0.23      0.06      0.09     26863\n",
      "         5.0       0.22      0.05      0.08     43032\n",
      "         6.0       0.31      0.42      0.35    103534\n",
      "         7.0       0.30      0.26      0.28    113383\n",
      "         8.0       0.34      0.63      0.45    129295\n",
      "         9.0       0.23      0.04      0.06     47515\n",
      "        10.0       0.35      0.16      0.22     30409\n",
      "\n",
      "    accuracy                           0.32    520000\n",
      "   macro avg       0.26      0.16      0.17    520000\n",
      "weighted avg       0.30      0.32      0.28    520000\n",
      "\n"
     ]
    }
   ],
   "source": [
    "print(metrics.classification_report(np.round(y_test), np.round(y_pred)))"
   ]
  },
  {
   "cell_type": "markdown",
   "metadata": {},
   "source": [
    "<h2>Multinomial Naive Bayes Classifier</h2>\n",
    "<br>Fit the Multinomial Naive Bayes classifier model on the train data    "
   ]
  },
  {
   "cell_type": "code",
   "execution_count": 22,
   "metadata": {},
   "outputs": [
    {
     "name": "stdout",
     "output_type": "stream",
     "text": [
      "Wall time: 1.42 s\n"
     ]
    },
    {
     "data": {
      "text/plain": [
       "MultinomialNB(alpha=1.0, class_prior=None, fit_prior=True)"
      ]
     },
     "execution_count": 22,
     "metadata": {},
     "output_type": "execute_result"
    }
   ],
   "source": [
    "%%time\n",
    "clf2 = MultinomialNB()\n",
    "clf2.fit(train_vectors, y_train)"
   ]
  },
  {
   "cell_type": "markdown",
   "metadata": {},
   "source": [
    "Predicting the values of the test set"
   ]
  },
  {
   "cell_type": "code",
   "execution_count": 23,
   "metadata": {},
   "outputs": [
    {
     "name": "stdout",
     "output_type": "stream",
     "text": [
      "Wall time: 215 ms\n"
     ]
    }
   ],
   "source": [
    "%%time\n",
    "y_pred_nb = np.round(clf2.predict(test_vectors))"
   ]
  },
  {
   "cell_type": "markdown",
   "metadata": {},
   "source": [
    "Accuracy on Multinomial Naive Bayes Classifier"
   ]
  },
  {
   "cell_type": "code",
   "execution_count": 90,
   "metadata": {},
   "outputs": [
    {
     "name": "stdout",
     "output_type": "stream",
     "text": [
      "Range Accuracy on Multinomial Naive Bayes : 0.30702115384615386 %\n"
     ]
    }
   ],
   "source": [
    "acc2 = accuracy_score(y_pred_nb, np.round(y_test))\n",
    "print('Range Accuracy on Multinomial Naive Bayes : {} %'.format(acc2))"
   ]
  },
  {
   "cell_type": "code",
   "execution_count": 91,
   "metadata": {},
   "outputs": [
    {
     "name": "stdout",
     "output_type": "stream",
     "text": [
      "Range Accuracy on Multinomial Naive Bayes : 66.69192307692308 %\n"
     ]
    }
   ],
   "source": [
    "range_MNB_score=range_accuracy_metric(y_test, np.round(y_pred_nb))\n",
    "print('Range Accuracy on Multinomial Naive Bayes : {} %'.format(range_MNB_score))"
   ]
  },
  {
   "cell_type": "markdown",
   "metadata": {},
   "source": [
    "Mean Square error on Multinomial Naive Bayes Classifier"
   ]
  },
  {
   "cell_type": "code",
   "execution_count": 81,
   "metadata": {},
   "outputs": [
    {
     "data": {
      "text/plain": [
       "1.7228805262386326"
      ]
     },
     "execution_count": 81,
     "metadata": {},
     "output_type": "execute_result"
    }
   ],
   "source": [
    "mse2 = mean_squared_error(y_test, np.round(y_pred_nb), squared=False)\n",
    "mse2"
   ]
  },
  {
   "cell_type": "code",
   "execution_count": 139,
   "metadata": {},
   "outputs": [
    {
     "name": "stderr",
     "output_type": "stream",
     "text": [
      "C:\\Users\\perei\\miniconda3\\envs\\tensorflow\\lib\\site-packages\\sklearn\\metrics\\_classification.py:1272: UndefinedMetricWarning:\n",
      "\n",
      "Precision and F-score are ill-defined and being set to 0.0 in labels with no predicted samples. Use `zero_division` parameter to control this behavior.\n",
      "\n"
     ]
    },
    {
     "name": "stdout",
     "output_type": "stream",
     "text": [
      "              precision    recall  f1-score   support\n",
      "\n",
      "         0.0       0.00      0.00      0.00         3\n",
      "         1.0       0.14      0.00      0.00      3894\n",
      "         2.0       0.58      0.00      0.01      8068\n",
      "         3.0       0.19      0.00      0.00     14004\n",
      "         4.0       0.22      0.00      0.00     26863\n",
      "         5.0       0.18      0.00      0.00     43032\n",
      "         6.0       0.30      0.35      0.32    103534\n",
      "         7.0       0.30      0.16      0.21    113383\n",
      "         8.0       0.31      0.82      0.45    129295\n",
      "         9.0       0.22      0.00      0.01     47515\n",
      "        10.0       0.40      0.01      0.01     30409\n",
      "\n",
      "    accuracy                           0.31    520000\n",
      "   macro avg       0.26      0.12      0.09    520000\n",
      "weighted avg       0.29      0.31      0.22    520000\n",
      "\n"
     ]
    }
   ],
   "source": [
    "print(metrics.classification_report(np.round(y_test), np.round(y_pred_nb)))"
   ]
  },
  {
   "cell_type": "markdown",
   "metadata": {},
   "source": [
    "<h2>Linear SVC</h2>\n",
    "<br>Fit the Linear SVC model on the train data    "
   ]
  },
  {
   "cell_type": "code",
   "execution_count": 34,
   "metadata": {},
   "outputs": [
    {
     "name": "stdout",
     "output_type": "stream",
     "text": [
      "Wall time: 2h 19min 55s\n"
     ]
    },
    {
     "name": "stderr",
     "output_type": "stream",
     "text": [
      "C:\\Users\\perei\\miniconda3\\envs\\tensorflow\\lib\\site-packages\\sklearn\\svm\\_base.py:947: ConvergenceWarning: Liblinear failed to converge, increase the number of iterations.\n",
      "  \"the number of iterations.\", ConvergenceWarning)\n"
     ]
    },
    {
     "data": {
      "text/plain": [
       "LinearSVC(C=1.0, class_weight=None, dual=True, fit_intercept=True,\n",
       "          intercept_scaling=1, loss='squared_hinge', max_iter=1000,\n",
       "          multi_class='ovr', penalty='l2', random_state=None, tol=0.0001,\n",
       "          verbose=0)"
      ]
     },
     "execution_count": 34,
     "metadata": {},
     "output_type": "execute_result"
    }
   ],
   "source": [
    "%%time\n",
    "clf3 = LinearSVC()\n",
    "clf3.fit(train_vectors, y_train)"
   ]
  },
  {
   "cell_type": "markdown",
   "metadata": {},
   "source": [
    "Predicting the values of the test set"
   ]
  },
  {
   "cell_type": "code",
   "execution_count": 36,
   "metadata": {},
   "outputs": [
    {
     "name": "stdout",
     "output_type": "stream",
     "text": [
      "Wall time: 358 ms\n"
     ]
    }
   ],
   "source": [
    "%%time\n",
    "y_pred_svc = np.round(clf3.predict(test_vectors))"
   ]
  },
  {
   "cell_type": "markdown",
   "metadata": {},
   "source": [
    "Accuracy on Linear SVC"
   ]
  },
  {
   "cell_type": "code",
   "execution_count": 168,
   "metadata": {},
   "outputs": [
    {
     "name": "stdout",
     "output_type": "stream",
     "text": [
      "Range Accuracy on Linear SVC : 0.3086673076923077 %\n"
     ]
    }
   ],
   "source": [
    "acc3 = accuracy_score(y_pred_svc, np.round(y_test))\n",
    "print('Range Accuracy on Linear SVC : {} %'.format(acc3))"
   ]
  },
  {
   "cell_type": "code",
   "execution_count": 169,
   "metadata": {},
   "outputs": [
    {
     "name": "stdout",
     "output_type": "stream",
     "text": [
      "Range Accuracy on Linear SVC : 67.45692307692308 %\n"
     ]
    }
   ],
   "source": [
    "range_svc_score=range_accuracy_metric(y_test, np.round(y_pred_svc))\n",
    "print('Range Accuracy on Linear SVC : {} %'.format(range_svc_score))"
   ]
  },
  {
   "cell_type": "markdown",
   "metadata": {},
   "source": [
    "Mean Square error on Linear SVC"
   ]
  },
  {
   "cell_type": "code",
   "execution_count": 53,
   "metadata": {},
   "outputs": [
    {
     "data": {
      "text/plain": [
       "1.72678781378783"
      ]
     },
     "execution_count": 53,
     "metadata": {},
     "output_type": "execute_result"
    }
   ],
   "source": [
    "mse3 = mean_squared_error(y_test, np.round(y_pred_svc), squared=False)\n",
    "mse3"
   ]
  },
  {
   "cell_type": "code",
   "execution_count": 140,
   "metadata": {},
   "outputs": [
    {
     "name": "stdout",
     "output_type": "stream",
     "text": [
      "              precision    recall  f1-score   support\n",
      "\n",
      "         0.0       0.00      0.00      0.00         3\n",
      "         1.0       0.32      0.17      0.22      3894\n",
      "         2.0       0.27      0.08      0.12      8068\n",
      "         3.0       0.23      0.03      0.05     14004\n",
      "         4.0       0.22      0.10      0.14     26863\n",
      "         5.0       0.23      0.07      0.11     43032\n",
      "         6.0       0.33      0.23      0.27    103534\n",
      "         7.0       0.29      0.19      0.23    113383\n",
      "         8.0       0.31      0.78      0.45    129295\n",
      "         9.0       0.22      0.04      0.06     47515\n",
      "        10.0       0.38      0.16      0.23     30409\n",
      "\n",
      "    accuracy                           0.31    520000\n",
      "   macro avg       0.26      0.17      0.17    520000\n",
      "weighted avg       0.29      0.31      0.26    520000\n",
      "\n"
     ]
    }
   ],
   "source": [
    "print(metrics.classification_report(np.round(y_test), np.round(y_pred_svc)))"
   ]
  },
  {
   "cell_type": "markdown",
   "metadata": {},
   "source": [
    "<h2>Voting Classifier</h2>\n",
    "<br>Fit the ensemble model on the train data    "
   ]
  },
  {
   "cell_type": "code",
   "execution_count": 160,
   "metadata": {},
   "outputs": [
    {
     "name": "stdout",
     "output_type": "stream",
     "text": [
      "Wall time: 8min 50s\n"
     ]
    },
    {
     "data": {
      "text/plain": [
       "VotingClassifier(estimators=[('ridge',\n",
       "                              RidgeClassifier(alpha=1.0, class_weight=None,\n",
       "                                              copy_X=True, fit_intercept=True,\n",
       "                                              max_iter=None, normalize=False,\n",
       "                                              random_state=None, solver='auto',\n",
       "                                              tol=0.001)),\n",
       "                             ('MNB',\n",
       "                              MultinomialNB(alpha=1.0, class_prior=None,\n",
       "                                            fit_prior=True))],\n",
       "                 flatten_transform=True, n_jobs=None, voting='hard',\n",
       "                 weights=None)"
      ]
     },
     "execution_count": 160,
     "metadata": {},
     "output_type": "execute_result"
    }
   ],
   "source": [
    "%%time\n",
    "from sklearn.ensemble import VotingClassifier\n",
    "estimators = []\n",
    "estimators.append(('ridge', clf))\n",
    "estimators.append(('MNB', clf2))\n",
    "# create the ensemble model\n",
    "ensemble = VotingClassifier(estimators)\n",
    "ensemble.fit(train_vectors, y_train)"
   ]
  },
  {
   "cell_type": "markdown",
   "metadata": {},
   "source": [
    "Predicting the values of the test set"
   ]
  },
  {
   "cell_type": "code",
   "execution_count": 161,
   "metadata": {},
   "outputs": [],
   "source": [
    "y_pred_ensemble = np.round(ensemble.predict(test_vectors))"
   ]
  },
  {
   "cell_type": "markdown",
   "metadata": {},
   "source": [
    "Accuracy on Ensemble model\n"
   ]
  },
  {
   "cell_type": "code",
   "execution_count": 166,
   "metadata": {},
   "outputs": [
    {
     "name": "stdout",
     "output_type": "stream",
     "text": [
      "Range Accuracy on Ensemble model : 0.3172326923076923 %\n"
     ]
    }
   ],
   "source": [
    "acc4 = accuracy_score(y_pred_ensemble, np.round(y_test))\n",
    "print('Range Accuracy on Ensemble model : {} %'.format(acc4))"
   ]
  },
  {
   "cell_type": "code",
   "execution_count": 167,
   "metadata": {},
   "outputs": [
    {
     "name": "stdout",
     "output_type": "stream",
     "text": [
      "Range Accuracy on Ensemble model : 69.51961538461539 %\n"
     ]
    }
   ],
   "source": [
    "range_ensemble_score=range_accuracy_metric(y_test, np.round(y_pred_ensemble))\n",
    "print('Range Accuracy on Ensemble model : {} %'.format(range_ensemble_score))"
   ]
  },
  {
   "cell_type": "markdown",
   "metadata": {},
   "source": [
    "Mean Square error on Ensemble"
   ]
  },
  {
   "cell_type": "code",
   "execution_count": 164,
   "metadata": {},
   "outputs": [
    {
     "data": {
      "text/plain": [
       "1.6105099526834064"
      ]
     },
     "execution_count": 164,
     "metadata": {},
     "output_type": "execute_result"
    }
   ],
   "source": [
    "mse4 = mean_squared_error(y_test, y_pred_ensemble, squared=False)\n",
    "mse4"
   ]
  },
  {
   "cell_type": "code",
   "execution_count": 172,
   "metadata": {},
   "outputs": [
    {
     "name": "stderr",
     "output_type": "stream",
     "text": [
      "C:\\Users\\perei\\miniconda3\\envs\\tensorflow\\lib\\site-packages\\sklearn\\metrics\\_classification.py:1272: UndefinedMetricWarning:\n",
      "\n",
      "Precision and F-score are ill-defined and being set to 0.0 in labels with no predicted samples. Use `zero_division` parameter to control this behavior.\n",
      "\n"
     ]
    },
    {
     "name": "stdout",
     "output_type": "stream",
     "text": [
      "              precision    recall  f1-score   support\n",
      "\n",
      "         0.0       0.00      0.00      0.00         3\n",
      "         1.0       0.35      0.09      0.15      3894\n",
      "         2.0       0.26      0.05      0.08      8068\n",
      "         3.0       0.22      0.03      0.05     14004\n",
      "         4.0       0.23      0.06      0.09     26863\n",
      "         5.0       0.22      0.05      0.08     43032\n",
      "         6.0       0.30      0.44      0.36    103534\n",
      "         7.0       0.30      0.26      0.28    113383\n",
      "         8.0       0.34      0.66      0.45    129295\n",
      "         9.0       0.29      0.00      0.01     47515\n",
      "        10.0       0.58      0.01      0.01     30409\n",
      "\n",
      "    accuracy                           0.32    520000\n",
      "   macro avg       0.28      0.15      0.14    520000\n",
      "weighted avg       0.31      0.32      0.26    520000\n",
      "\n"
     ]
    }
   ],
   "source": [
    "print(metrics.classification_report(np.round(y_test), np.round(y_pred_ensemble)))"
   ]
  },
  {
   "cell_type": "markdown",
   "metadata": {},
   "source": [
    "# Accuracy vs Range Accuracy"
   ]
  },
  {
   "cell_type": "code",
   "execution_count": 170,
   "metadata": {},
   "outputs": [
    {
     "data": {
      "image/png": "[encoded data removed]",
      "text/plain": [
       "<Figure size 432x288 with 1 Axes>"
      ]
     },
     "metadata": {
      "needs_background": "light"
     },
     "output_type": "display_data"
    }
   ],
   "source": [
    "labels = ['Ridge', 'MultinomialNB', 'LinearSVC', 'Ensemble']\n",
    "accuracy = np.round([acc*100, acc2*100, acc3*100, acc4*100])\n",
    "range_accuracy = np.round([range_ridge_score, range_MNB_score, range_svc_score, range_ensemble_score])\n",
    "\n",
    "x = np.arange(len(labels))  # the label locations\n",
    "width = 0.3  # the width of the bars\n",
    "\n",
    "fig, ax = plt.subplots()\n",
    "rects1 = ax.bar(x - width/2, accuracy, width, label='Accuracy')\n",
    "rects2 = ax.bar(x + width/2, range_accuracy, width, label='Range Accuracy')\n",
    "\n",
    "# Add some text for labels, title and custom x-axis tick labels, etc.\n",
    "ax.set_ylabel('Accuracy')\n",
    "ax.set_title('Accuracy vs Range Accuracy')\n",
    "ax.set_xticks(x)\n",
    "ax.set_xticklabels(labels)\n",
    "ax.legend()\n",
    "\n",
    "\n",
    "def autolabel(rects):\n",
    "    for rect in rects:\n",
    "        height = rect.get_height()\n",
    "        ax.annotate('{}'.format(height),\n",
    "                    xy=(rect.get_x() + rect.get_width() / 2, height),\n",
    "                    xytext=(0, 3),  # 3 points vertical offset\n",
    "                    textcoords=\"offset points\",\n",
    "                    ha='center', va='bottom')\n",
    "autolabel(rects1)\n",
    "autolabel(rects2)\n",
    "fig.tight_layout()\n",
    "plt.show()"
   ]
  },
  {
   "cell_type": "markdown",
   "metadata": {},
   "source": [
    "Based on the results of the above bar graph, the Web UI was developed with the Ridge Classifier for predicting the rating."
   ]
  },
  {
   "cell_type": "markdown",
   "metadata": {},
   "source": [
    "Save the models using joblib "
   ]
  },
  {
   "cell_type": "code",
   "execution_count": 35,
   "metadata": {},
   "outputs": [
    {
     "name": "stderr",
     "output_type": "stream",
     "text": [
      "C:\\Users\\perei\\miniconda3\\envs\\tensorflow\\lib\\site-packages\\sklearn\\externals\\joblib\\__init__.py:15: FutureWarning: sklearn.externals.joblib is deprecated in 0.21 and will be removed in 0.23. Please import this functionality directly from joblib, which can be installed with: pip install joblib. If this warning is raised when loading pickled models, you may need to re-serialize those models with scikit-learn 0.21+.\n",
      "  warnings.warn(msg, category=FutureWarning)\n"
     ]
    },
    {
     "data": {
      "text/plain": [
       "['linear_SVC.sav']"
      ]
     },
     "execution_count": 35,
     "metadata": {},
     "output_type": "execute_result"
    }
   ],
   "source": [
    "from sklearn.externals import joblib\n",
    "joblib.dump(clf, 'ridge_model.sav')\n",
    "joblib.dump(count_vectorizer, 'vector.sav')\n",
    "joblib.dump(clf2, 'multi_naive_bayes.sav')\n",
    "joblib.dump(clf3, 'linear_SVC.sav')"
   ]
  },
  {
   "cell_type": "markdown",
   "metadata": {},
   "source": [
    "References:<br><ul>\n",
    "    <li>https://pythonprogramming.net/linear-svc-example-scikit-learn-svm-python/</li>\n",
    "    <li>https://www.kaggle.com/jvanelteren/boardgamegeek-reviews</li>\n",
    "    <li>https://www.boardgamegeek.com/</li>\n",
    "    <li>https://github.com/vivekk09/Board-Game-Review-Prediction-ML-Project/blob/master/Board%20Game%20Review%20Prediction.ipynb</li>\n",
    "    <li>https://towardsdatascience.com/a-complete-exploratory-data-analysis-and-visualization-for-text-data-29fb1b96fb6a</li>\n",
    "    <li>https://matplotlib.org/3.2.1/gallery/lines_bars_and_markers/barchart.html#sphx-glr-gallery-lines-bars-and-markers-barchart-py</li>\n",
    "        <li>https://blog.statsbot.co/ensemble-learning-d1dcd548e936</li>"
   ]
  },
  {
   "cell_type": "code",
   "execution_count": null,
   "metadata": {},
   "outputs": [],
   "source": []
  }
 ],
 "metadata": {
  "kernelspec": {
   "display_name": "Python 3.7 (tensorflow)",
   "language": "python",
   "name": "tensorflow"
  },
  "language_info": {
   "codemirror_mode": {
    "name": "ipython",
    "version": 3
   },
   "file_extension": ".py",
   "mimetype": "text/x-python",
   "name": "python",
   "nbconvert_exporter": "python",
   "pygments_lexer": "ipython3",
   "version": "3.7.7"
  }
 },
 "nbformat": 4,
 "nbformat_minor": 4
}
